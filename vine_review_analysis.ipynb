{
 "cells": [
  {
   "cell_type": "code",
   "execution_count": 1,
   "id": "df3c4863",
   "metadata": {},
   "outputs": [],
   "source": [
    "import pandas as pd"
   ]
  },
  {
   "cell_type": "code",
   "execution_count": 8,
   "id": "b1d14024",
   "metadata": {},
   "outputs": [
    {
     "data": {
      "text/html": [
       "<div>\n",
       "<style scoped>\n",
       "    .dataframe tbody tr th:only-of-type {\n",
       "        vertical-align: middle;\n",
       "    }\n",
       "\n",
       "    .dataframe tbody tr th {\n",
       "        vertical-align: top;\n",
       "    }\n",
       "\n",
       "    .dataframe thead th {\n",
       "        text-align: right;\n",
       "    }\n",
       "</style>\n",
       "<table border=\"1\" class=\"dataframe\">\n",
       "  <thead>\n",
       "    <tr style=\"text-align: right;\">\n",
       "      <th></th>\n",
       "      <th>review_id</th>\n",
       "      <th>star_rating</th>\n",
       "      <th>helpful_votes</th>\n",
       "      <th>total_votes</th>\n",
       "      <th>vine</th>\n",
       "      <th>verified_purchase</th>\n",
       "    </tr>\n",
       "  </thead>\n",
       "  <tbody>\n",
       "    <tr>\n",
       "      <th>0</th>\n",
       "      <td>RAB23OVFNCXZQ</td>\n",
       "      <td>1.0</td>\n",
       "      <td>0.0</td>\n",
       "      <td>0.0</td>\n",
       "      <td>N</td>\n",
       "      <td>Y</td>\n",
       "    </tr>\n",
       "    <tr>\n",
       "      <th>1</th>\n",
       "      <td>R3NORADVJO6IE6</td>\n",
       "      <td>5.0</td>\n",
       "      <td>0.0</td>\n",
       "      <td>0.0</td>\n",
       "      <td>N</td>\n",
       "      <td>Y</td>\n",
       "    </tr>\n",
       "    <tr>\n",
       "      <th>2</th>\n",
       "      <td>R299F4SO98S5OO</td>\n",
       "      <td>5.0</td>\n",
       "      <td>1.0</td>\n",
       "      <td>1.0</td>\n",
       "      <td>N</td>\n",
       "      <td>Y</td>\n",
       "    </tr>\n",
       "    <tr>\n",
       "      <th>3</th>\n",
       "      <td>R2DA9DOT03UW6I</td>\n",
       "      <td>5.0</td>\n",
       "      <td>2.0</td>\n",
       "      <td>3.0</td>\n",
       "      <td>N</td>\n",
       "      <td>Y</td>\n",
       "    </tr>\n",
       "    <tr>\n",
       "      <th>4</th>\n",
       "      <td>R2OGCH681EQHU6</td>\n",
       "      <td>5.0</td>\n",
       "      <td>0.0</td>\n",
       "      <td>0.0</td>\n",
       "      <td>N</td>\n",
       "      <td>Y</td>\n",
       "    </tr>\n",
       "  </tbody>\n",
       "</table>\n",
       "</div>"
      ],
      "text/plain": [
       "        review_id  star_rating  helpful_votes  total_votes vine  \\\n",
       "0   RAB23OVFNCXZQ          1.0            0.0          0.0    N   \n",
       "1  R3NORADVJO6IE6          5.0            0.0          0.0    N   \n",
       "2  R299F4SO98S5OO          5.0            1.0          1.0    N   \n",
       "3  R2DA9DOT03UW6I          5.0            2.0          3.0    N   \n",
       "4  R2OGCH681EQHU6          5.0            0.0          0.0    N   \n",
       "\n",
       "  verified_purchase  \n",
       "0                 Y  \n",
       "1                 Y  \n",
       "2                 Y  \n",
       "3                 Y  \n",
       "4                 Y  "
      ]
     },
     "execution_count": 8,
     "metadata": {},
     "output_type": "execute_result"
    }
   ],
   "source": [
    "#Retrieve vine_table.csv\n",
    "df1 = pd.read_csv('vine_table.csv')\n",
    "df1.head()"
   ]
  },
  {
   "cell_type": "code",
   "execution_count": 13,
   "id": "106a426a",
   "metadata": {},
   "outputs": [
    {
     "data": {
      "text/html": [
       "<div>\n",
       "<style scoped>\n",
       "    .dataframe tbody tr th:only-of-type {\n",
       "        vertical-align: middle;\n",
       "    }\n",
       "\n",
       "    .dataframe tbody tr th {\n",
       "        vertical-align: top;\n",
       "    }\n",
       "\n",
       "    .dataframe thead th {\n",
       "        text-align: right;\n",
       "    }\n",
       "</style>\n",
       "<table border=\"1\" class=\"dataframe\">\n",
       "  <thead>\n",
       "    <tr style=\"text-align: right;\">\n",
       "      <th></th>\n",
       "      <th>review_id</th>\n",
       "      <th>star_rating</th>\n",
       "      <th>helpful_votes</th>\n",
       "      <th>total_votes</th>\n",
       "      <th>vine</th>\n",
       "      <th>verified_purchase</th>\n",
       "    </tr>\n",
       "  </thead>\n",
       "  <tbody>\n",
       "    <tr>\n",
       "      <th>487</th>\n",
       "      <td>R1T4FVSABO0IDP</td>\n",
       "      <td>5.0</td>\n",
       "      <td>8.0</td>\n",
       "      <td>31.0</td>\n",
       "      <td>N</td>\n",
       "      <td>Y</td>\n",
       "    </tr>\n",
       "    <tr>\n",
       "      <th>613</th>\n",
       "      <td>R397VXR1GAK6C9</td>\n",
       "      <td>5.0</td>\n",
       "      <td>21.0</td>\n",
       "      <td>21.0</td>\n",
       "      <td>N</td>\n",
       "      <td>Y</td>\n",
       "    </tr>\n",
       "    <tr>\n",
       "      <th>1058</th>\n",
       "      <td>R2H6KB9RHS17GA</td>\n",
       "      <td>3.0</td>\n",
       "      <td>59.0</td>\n",
       "      <td>69.0</td>\n",
       "      <td>N</td>\n",
       "      <td>Y</td>\n",
       "    </tr>\n",
       "    <tr>\n",
       "      <th>1097</th>\n",
       "      <td>R3HAK0MUN9F5IT</td>\n",
       "      <td>1.0</td>\n",
       "      <td>6.0</td>\n",
       "      <td>28.0</td>\n",
       "      <td>N</td>\n",
       "      <td>Y</td>\n",
       "    </tr>\n",
       "    <tr>\n",
       "      <th>1373</th>\n",
       "      <td>R29UTZTOPUVRSV</td>\n",
       "      <td>5.0</td>\n",
       "      <td>21.0</td>\n",
       "      <td>21.0</td>\n",
       "      <td>N</td>\n",
       "      <td>Y</td>\n",
       "    </tr>\n",
       "  </tbody>\n",
       "</table>\n",
       "</div>"
      ],
      "text/plain": [
       "           review_id  star_rating  helpful_votes  total_votes vine  \\\n",
       "487   R1T4FVSABO0IDP          5.0            8.0         31.0    N   \n",
       "613   R397VXR1GAK6C9          5.0           21.0         21.0    N   \n",
       "1058  R2H6KB9RHS17GA          3.0           59.0         69.0    N   \n",
       "1097  R3HAK0MUN9F5IT          1.0            6.0         28.0    N   \n",
       "1373  R29UTZTOPUVRSV          5.0           21.0         21.0    N   \n",
       "\n",
       "     verified_purchase  \n",
       "487                  Y  \n",
       "613                  Y  \n",
       "1058                 Y  \n",
       "1097                 Y  \n",
       "1373                 Y  "
      ]
     },
     "execution_count": 13,
     "metadata": {},
     "output_type": "execute_result"
    }
   ],
   "source": [
    "#filter down to reviews with more than 20 votes\n",
    "df2 = df1.loc[df1['total_votes']>=20]\n",
    "df2.head()"
   ]
  },
  {
   "cell_type": "code",
   "execution_count": 19,
   "id": "de583d5c",
   "metadata": {},
   "outputs": [
    {
     "data": {
      "text/html": [
       "<div>\n",
       "<style scoped>\n",
       "    .dataframe tbody tr th:only-of-type {\n",
       "        vertical-align: middle;\n",
       "    }\n",
       "\n",
       "    .dataframe tbody tr th {\n",
       "        vertical-align: top;\n",
       "    }\n",
       "\n",
       "    .dataframe thead th {\n",
       "        text-align: right;\n",
       "    }\n",
       "</style>\n",
       "<table border=\"1\" class=\"dataframe\">\n",
       "  <thead>\n",
       "    <tr style=\"text-align: right;\">\n",
       "      <th></th>\n",
       "      <th>review_id</th>\n",
       "      <th>star_rating</th>\n",
       "      <th>helpful_votes</th>\n",
       "      <th>total_votes</th>\n",
       "      <th>vine</th>\n",
       "      <th>verified_purchase</th>\n",
       "    </tr>\n",
       "  </thead>\n",
       "  <tbody>\n",
       "    <tr>\n",
       "      <th>3514924</th>\n",
       "      <td>R1B4VY89QJI9YM</td>\n",
       "      <td>4.0</td>\n",
       "      <td>61.0</td>\n",
       "      <td>69.0</td>\n",
       "      <td>N</td>\n",
       "      <td>N</td>\n",
       "    </tr>\n",
       "    <tr>\n",
       "      <th>3514928</th>\n",
       "      <td>R3EOKOI381VNAD</td>\n",
       "      <td>5.0</td>\n",
       "      <td>28.0</td>\n",
       "      <td>31.0</td>\n",
       "      <td>N</td>\n",
       "      <td>N</td>\n",
       "    </tr>\n",
       "    <tr>\n",
       "      <th>3514935</th>\n",
       "      <td>R2X2OT2N2L6VTH</td>\n",
       "      <td>1.0</td>\n",
       "      <td>33.0</td>\n",
       "      <td>36.0</td>\n",
       "      <td>N</td>\n",
       "      <td>N</td>\n",
       "    </tr>\n",
       "    <tr>\n",
       "      <th>3514939</th>\n",
       "      <td>R3SPUAB0NVAB0O</td>\n",
       "      <td>5.0</td>\n",
       "      <td>17.0</td>\n",
       "      <td>20.0</td>\n",
       "      <td>N</td>\n",
       "      <td>N</td>\n",
       "    </tr>\n",
       "    <tr>\n",
       "      <th>3514940</th>\n",
       "      <td>R2O7ALEKWVTK9N</td>\n",
       "      <td>2.0</td>\n",
       "      <td>20.0</td>\n",
       "      <td>23.0</td>\n",
       "      <td>N</td>\n",
       "      <td>N</td>\n",
       "    </tr>\n",
       "  </tbody>\n",
       "</table>\n",
       "</div>"
      ],
      "text/plain": [
       "              review_id  star_rating  helpful_votes  total_votes vine  \\\n",
       "3514924  R1B4VY89QJI9YM          4.0           61.0         69.0    N   \n",
       "3514928  R3EOKOI381VNAD          5.0           28.0         31.0    N   \n",
       "3514935  R2X2OT2N2L6VTH          1.0           33.0         36.0    N   \n",
       "3514939  R3SPUAB0NVAB0O          5.0           17.0         20.0    N   \n",
       "3514940  R2O7ALEKWVTK9N          2.0           20.0         23.0    N   \n",
       "\n",
       "        verified_purchase  \n",
       "3514924                 N  \n",
       "3514928                 N  \n",
       "3514935                 N  \n",
       "3514939                 N  \n",
       "3514940                 N  "
      ]
     },
     "execution_count": 19,
     "metadata": {},
     "output_type": "execute_result"
    }
   ],
   "source": [
    "#Filter down again to reviews with at least half marked as helpful\n",
    "df3 = df2[df2.helpful_votes/df2.total_votes >=.5]\n",
    "df3.tail()\n"
   ]
  },
  {
   "cell_type": "code",
   "execution_count": 47,
   "id": "1a7f5abb",
   "metadata": {},
   "outputs": [
    {
     "name": "stdout",
     "output_type": "stream",
     "text": [
      "There is a total of 82 reviews in the paid (vine) program.\n"
     ]
    }
   ],
   "source": [
    "#Make df for reviews part of the 'vine' program and count them\n",
    "df_vine_Y = df3[df3.vine == 'Y']\n",
    "df_Y_count = len(df_vine_Y)\n",
    "print(f'There is a total of {df_Y_count} reviews in the paid (vine) program.')"
   ]
  },
  {
   "cell_type": "code",
   "execution_count": 67,
   "id": "000f29d8",
   "metadata": {},
   "outputs": [
    {
     "name": "stdout",
     "output_type": "stream",
     "text": [
      "There are 33 five star reviews in the paid (vine) program.\n"
     ]
    }
   ],
   "source": [
    "#Determine number of 5 star reviews for \"vine\" program\n",
    "five_star_Y = df_vine_Y[df_vine_Y.star_rating == 5]\n",
    "five_star_Y_count = len(five_star_Y)\n",
    "print(f'There are {five_star_Y_count} five star reviews in the paid (vine) program.')"
   ]
  },
  {
   "cell_type": "code",
   "execution_count": 68,
   "id": "483d5bd9",
   "metadata": {},
   "outputs": [
    {
     "name": "stdout",
     "output_type": "stream",
     "text": [
      "Of the total paid reviews 40.24% are five star rated.\n"
     ]
    }
   ],
   "source": [
    "#Determine the percentage of 5 star reviews for the \"vine\" program\n",
    "Y_percent = (five_star_Y_count/df_Y_count)\n",
    "print(f'Of the total paid reviews {Y_percent:.2%} are five star rated.')"
   ]
  },
  {
   "cell_type": "code",
   "execution_count": 48,
   "id": "472adfdd",
   "metadata": {},
   "outputs": [
    {
     "name": "stdout",
     "output_type": "stream",
     "text": [
      "There is a total of 24,742 unpaid reviews.\n"
     ]
    }
   ],
   "source": [
    "#Make df for reviews NOT part of the 'vine' program and count them\n",
    "df_vine_N = df3[df3.vine == 'N']\n",
    "df_N_count = len(df_vine_N)\n",
    "print(f'There is a total of {df_N_count:,d} unpaid reviews.')"
   ]
  },
  {
   "cell_type": "code",
   "execution_count": 71,
   "id": "85a7135e",
   "metadata": {},
   "outputs": [
    {
     "name": "stdout",
     "output_type": "stream",
     "text": [
      "There are 12,807 five star reviews in the unpaid program.\n"
     ]
    }
   ],
   "source": [
    "#Determine number of 5 star reviews for the unpaid program\n",
    "five_star_N = df_vine_N[df_vine_N.star_rating == 5]\n",
    "five_star_N_count = len(five_star_N)\n",
    "print(f'There are {five_star_N_count:,d} five star reviews in the unpaid program.')\n"
   ]
  },
  {
   "cell_type": "code",
   "execution_count": 72,
   "id": "83fc1ddb",
   "metadata": {},
   "outputs": [
    {
     "name": "stdout",
     "output_type": "stream",
     "text": [
      "Of the total unpaid reviews 51.76% are five star rated.\n"
     ]
    }
   ],
   "source": [
    "#Determine the percentage of 5 star reviews for the unpaid program\n",
    "N_percent = (five_star_N_count/df_N_count)\n",
    "print(f'Of the total unpaid reviews {N_percent:.2%} are five star rated.')"
   ]
  }
 ],
 "metadata": {
  "kernelspec": {
   "display_name": "PythonData",
   "language": "python",
   "name": "pythondata"
  },
  "language_info": {
   "codemirror_mode": {
    "name": "ipython",
    "version": 3
   },
   "file_extension": ".py",
   "mimetype": "text/x-python",
   "name": "python",
   "nbconvert_exporter": "python",
   "pygments_lexer": "ipython3",
   "version": "3.7.13"
  }
 },
 "nbformat": 4,
 "nbformat_minor": 5
}
